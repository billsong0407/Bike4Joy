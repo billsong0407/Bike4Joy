{
 "cells": [
  {
   "cell_type": "code",
   "execution_count": 1,
   "metadata": {},
   "outputs": [],
   "source": [
    "import json\n",
    "import mysql.connector\n",
    "from mysql.connector import Error"
   ]
  },
  {
   "cell_type": "code",
   "execution_count": 2,
   "metadata": {},
   "outputs": [],
   "source": [
    "with open(\"../config.json\") as file:\n",
    "    credentials = json.load(file)\n",
    "_host = credentials['DB_ADDRESS']\n",
    "_port = credentials[\"DB_PORT\"]\n",
    "_database = credentials[\"DB_NAME\"]\n",
    "_username = credentials[\"DB_USERNAME\"]\n",
    "_password = credentials[\"DB_PASSWORD\"]"
   ]
  },
  {
   "cell_type": "code",
   "execution_count": 3,
   "metadata": {},
   "outputs": [],
   "source": [
    "connection = mysql.connector.connect(host=_host,\n",
    "                                    port=_port,\n",
    "                                    database=_database,\n",
    "                                    user=_username,\n",
    "                                    password=_password)\n",
    "cursor = connection.cursor()\n",
    "\n",
    "            "
   ]
  },
  {
   "cell_type": "code",
   "execution_count": 4,
   "metadata": {},
   "outputs": [
    {
     "name": "stdout",
     "output_type": "stream",
     "text": [
      "[('bike4joy',), ('information_schema',), ('mysql',), ('performance_schema',), ('sys',)]\n"
     ]
    }
   ],
   "source": [
    "cursor.execute(\"SHOW DATABASES;\")\n",
    "database = cursor.fetchall()\n",
    "print(database)"
   ]
  },
  {
   "cell_type": "code",
   "execution_count": 49,
   "metadata": {},
   "outputs": [],
   "source": [
    "create_table_sql = \"\"\"\n",
    "CREATE TABLE LOCATIONS(\n",
    "    id INT AUTO_INCREMENT PRIMARY KEY,\n",
    "    lat TEXT,\n",
    "    lng TEXT,\n",
    "    capacity TEXT,\n",
    "    parkingType TEXT,\n",
    "    address TEXT,\n",
    "    postalCode TEXT,\n",
    "    bikeSize FLOAT,\n",
    "    yearInstalled INT\n",
    ")\n",
    "\"\"\""
   ]
  },
  {
   "cell_type": "code",
   "execution_count": 50,
   "metadata": {},
   "outputs": [],
   "source": [
    "cursor.execute(create_table_sql)\n",
    "connection.commit()"
   ]
  },
  {
   "cell_type": "code",
   "execution_count": 51,
   "metadata": {},
   "outputs": [
    {
     "name": "stdout",
     "output_type": "stream",
     "text": [
      "('id', b'int', 'NO', 'PRI', None, 'auto_increment')\n",
      "('lat', b'text', 'YES', '', None, '')\n",
      "('lng', b'text', 'YES', '', None, '')\n",
      "('capacity', b'text', 'YES', '', None, '')\n",
      "('parkingType', b'text', 'YES', '', None, '')\n",
      "('address', b'text', 'YES', '', None, '')\n",
      "('postalCode', b'text', 'YES', '', None, '')\n",
      "('bikeSize', b'float', 'YES', '', None, '')\n",
      "('yearInstalled', b'int', 'YES', '', None, '')\n"
     ]
    }
   ],
   "source": [
    "cursor.execute(\"DESCRIBE LOCATIONS\")\n",
    "result = cursor.fetchall()\n",
    "for row in result:\n",
    "    print(row)"
   ]
  },
  {
   "cell_type": "code",
   "execution_count": 9,
   "metadata": {},
   "outputs": [],
   "source": [
    "with open(\"locations.json\") as file:\n",
    "    raw_data = json.load(file)"
   ]
  },
  {
   "cell_type": "code",
   "execution_count": 23,
   "metadata": {},
   "outputs": [],
   "source": [
    "locations = raw_data['parkingData'][:10]"
   ]
  },
  {
   "cell_type": "code",
   "execution_count": 60,
   "metadata": {},
   "outputs": [
    {
     "name": "stdout",
     "output_type": "stream",
     "text": [
      "\n",
      "INSERT INTO LOCATIONS (address, postalCode, parkingType, capacity, lat, lng, bikeSize, yearInstalled)\n",
      "VALUES\n",
      "(\"21 Gerrard St E\", \"None\", \"Bike Rack\", 16, \"43.6591625171396\", \"-79.3810999113837\", 2.9, 2016),\n",
      "(\"213 Delaware Ave\", \"M6H 2T4\", \"Angled Bike Rack\", 5, \"43.6620573990966\", \"-79.4278708182001\", 2.9, 2014),\n",
      "(\"213 Delaware Ave\", \"M6H 2T4\", \"Bike Corral\", 8, \"43.6620573990966\", \"-79.4278708182001\", 3.0, 2014),\n",
      "(\"2198 Yonge St\", \"M4S 2B8\", \"Bike Rack\", 16, \"43.7058827894606\", \"-79.3984239071573\", 2.9, 2016),\n",
      "(\"222 Spadina Ave\", \"M5T 3B3\", \"Bike Rack\", 16, \"43.6509286638588\", \"-79.3978377650267\", 2.9, 2016),\n",
      "(\"236 Augusta Ave\", \"M5T 2L7\", \"Bike Corral\", 24, \"43.6553455061522\", \"-79.4025948745683\", 12.0, 2012),\n",
      "(\"36 Lisgar St\", \"M6J 0C7\", \"Bike Rack\", 8, \"43.6417386470507\", \"-79.4233157461113\", 2.9, 2016),\n",
      "(\"468 King St W\", \"M5V 1L8\", \"Bike Rack\", 8, \"43.645545087493\", \"-79.3959267185292\", 2.9, 2016),\n",
      "(\"5 Walmer Rd\", \"None\", \"Bike Rack\", 8, \"43.6667025082735\", \"-79.4053783829308\", 2.9, 2016),\n",
      "(\"500 King St W\", \"M5V 1L9\", \"Bike Rack\", 8, \"43.6453156558296\", \"-79.3968051380048\", 2.9, 2016),\n",
      "\n"
     ]
    }
   ],
   "source": [
    "cursor.execute(\"DELETE FROM LOCATIONS\")\n",
    "\n",
    "INSERT_QUERY = \"\"\"\n",
    "INSERT INTO LOCATIONS (address, postalCode, parkingType, capacity, lat, lng, bikeSize, yearInstalled)\n",
    "VALUES\n",
    "\"\"\"\n",
    "\n",
    "for location in locations:\n",
    "    properties = location[\"properties\"]\n",
    "    address = properties[\"ADDRESS_FULL\"]\n",
    "    postal_code = properties[\"POSTAL_CODE\"]\n",
    "    parking_type = properties[\"PARKING_TYPE\"]\n",
    "    capacity = properties[\"BICYCLE_CAPACITY\"]\n",
    "    bike_size = properties[\"SIZE_M\"]\n",
    "    year_installed = properties[\"YEAR_INSTALLED\"]\n",
    "    \n",
    "    geometry = location[\"geometry\"][\"coordinates\"]\n",
    "    lat = geometry[1]\n",
    "    lng = geometry[0]\n",
    "    \n",
    "    INSERT_QUERY += f'(\"{address}\", \"{postal_code}\", \"{parking_type}\", {capacity}, \"{lat}\", \"{lng}\", {bike_size}, {year_installed}),\\n'\n",
    "print(INSERT_QUERY)"
   ]
  },
  {
   "cell_type": "code",
   "execution_count": 61,
   "metadata": {},
   "outputs": [
    {
     "name": "stdout",
     "output_type": "stream",
     "text": [
      "\n",
      "INSERT INTO LOCATIONS (address, postalCode, parkingType, capacity, lat, lng, bikeSize, yearInstalled)\n",
      "VALUES\n",
      "(\"21 Gerrard St E\", \"None\", \"Bike Rack\", 16, \"43.6591625171396\", \"-79.3810999113837\", 2.9, 2016),\n",
      "(\"213 Delaware Ave\", \"M6H 2T4\", \"Angled Bike Rack\", 5, \"43.6620573990966\", \"-79.4278708182001\", 2.9, 2014),\n",
      "(\"213 Delaware Ave\", \"M6H 2T4\", \"Bike Corral\", 8, \"43.6620573990966\", \"-79.4278708182001\", 3.0, 2014),\n",
      "(\"2198 Yonge St\", \"M4S 2B8\", \"Bike Rack\", 16, \"43.7058827894606\", \"-79.3984239071573\", 2.9, 2016),\n",
      "(\"222 Spadina Ave\", \"M5T 3B3\", \"Bike Rack\", 16, \"43.6509286638588\", \"-79.3978377650267\", 2.9, 2016),\n",
      "(\"236 Augusta Ave\", \"M5T 2L7\", \"Bike Corral\", 24, \"43.6553455061522\", \"-79.4025948745683\", 12.0, 2012),\n",
      "(\"36 Lisgar St\", \"M6J 0C7\", \"Bike Rack\", 8, \"43.6417386470507\", \"-79.4233157461113\", 2.9, 2016),\n",
      "(\"468 King St W\", \"M5V 1L8\", \"Bike Rack\", 8, \"43.645545087493\", \"-79.3959267185292\", 2.9, 2016),\n",
      "(\"5 Walmer Rd\", \"None\", \"Bike Rack\", 8, \"43.6667025082735\", \"-79.4053783829308\", 2.9, 2016),\n",
      "(\"500 King St W\", \"M5V 1L9\", \"Bike Rack\", 8, \"43.6453156558296\", \"-79.3968051380048\", 2.9, 2016)\n"
     ]
    }
   ],
   "source": [
    "print(INSERT_QUERY.rstrip().rstrip(','))\n",
    "cursor.execute(INSERT_QUERY.rstrip().rstrip(','))\n",
    "connection.commit()"
   ]
  },
  {
   "cell_type": "code",
   "execution_count": 5,
   "metadata": {},
   "outputs": [
    {
     "name": "stdout",
     "output_type": "stream",
     "text": [
      "(1, '43.6591625171396', '-79.3810999113837', '16', 'Bike Rack', '21 Gerrard St E', 'None', 2.9, 2016)\n",
      "(2, '43.6620573990966', '-79.4278708182001', '5', 'Angled Bike Rack', '213 Delaware Ave', 'M6H 2T4', 2.9, 2014)\n",
      "(3, '43.6620573990966', '-79.4278708182001', '8', 'Bike Corral', '213 Delaware Ave', 'M6H 2T4', 3.0, 2014)\n",
      "(4, '43.7058827894606', '-79.3984239071573', '16', 'Bike Rack', '2198 Yonge St', 'M4S 2B8', 2.9, 2016)\n",
      "(5, '43.6509286638588', '-79.3978377650267', '16', 'Bike Rack', '222 Spadina Ave', 'M5T 3B3', 2.9, 2016)\n",
      "(6, '43.6553455061522', '-79.4025948745683', '24', 'Bike Corral', '236 Augusta Ave', 'M5T 2L7', 12.0, 2012)\n",
      "(7, '43.6417386470507', '-79.4233157461113', '8', 'Bike Rack', '36 Lisgar St', 'M6J 0C7', 2.9, 2016)\n",
      "(8, '43.645545087493', '-79.3959267185292', '8', 'Bike Rack', '468 King St W', 'M5V 1L8', 2.9, 2016)\n",
      "(9, '43.6667025082735', '-79.4053783829308', '8', 'Bike Rack', '5 Walmer Rd', 'None', 2.9, 2016)\n",
      "(10, '43.6453156558296', '-79.3968051380048', '8', 'Bike Rack', '500 King St W', 'M5V 1L9', 2.9, 2016)\n",
      "(11, '43.6651006726937', '-79.4126936121623', '8', 'Bike Rack', '584 Bloor St W', 'M6G 1K4', 2.9, 2017)\n",
      "(12, '43.6639772447612', '-79.4174332539337', '16', 'Bike Rack', '692 Bloor St W', 'M6G 1L4', 2.9, 2016)\n",
      "(13, '43.6604459643503', '-79.3861750845428', '8', 'Bike Rack', '790 Bay St', 'M5G 1N8', 2.9, 2016)\n",
      "(14, '43.6449521397727', '-79.3900134101984', '16', 'Bike Rack', '241 Wellington St W', 'None', 2.9, 2016)\n",
      "(15, '43.6547112224053', '-79.4663681478908', '20', 'Bike Shelter', '40 High Park Ave', 'M6P 2S1', 10.0, 2013)\n",
      "(16, '43.6528221423182', '-79.3836250552132', '120', 'Bike Rack', '100 Queen St W', 'M5H 2N1', 2.9, 2015)\n",
      "(17, '43.646578203587', '-79.4079437964715', '10', 'Bike Shelter', '686 Queen St W', 'M6J 1E7', 3.0, 2015)\n",
      "(18, '43.6468989083573', '-79.4175862610454', '18', 'Bike Shelter', '180 Shaw St', 'M6J 2W5', 7.6, 2013)\n",
      "(19, '43.6795102439657', '-79.3910471597584', '8', 'Bike Rack', '1140 Yonge St', 'M4W 2L8', 2.9, 2016)\n",
      "(20, '43.772810586741', '-79.2572409578119', '8', 'Bike Rack', '150 Borough Dr', 'M1P 4N7', 2.9, 2014)\n",
      "(21, '43.6577656354656', '-79.3804798260292', '8', 'Bike Rack', '350 Victoria St', 'M5B 2K3', 2.9, 2016)\n",
      "(22, '43.6519627216596', '-79.3663420506319', '8', 'Bike Rack', '266 King St E', 'M5A 1K3', 2.9, 2016)\n",
      "(23, '43.6565589127866', '-79.3793385702209', '8', 'Bike Rack', '277 Victoria St', 'M5B 1W2', 2.9, 2016)\n",
      "(24, '43.6487811930649', '-79.3892098795828', '14', 'Bike Corral', '28 Duncan St', 'None', 5.5, 2015)\n",
      "(25, '43.6437906731595', '-79.3814651014112', '30', 'Angled Bike Rack', '35 York St', 'M5J 0C7', 2.9, 2015)\n",
      "(26, '43.6508344042378', '-79.3808769998818', '8', 'Bike Rack', '357 Bay St', 'M5H 2T7', 2.9, 2016)\n",
      "(27, '43.6665134281721', '-79.4057839572486', '8', 'Bike Rack', '362 Bloor St W', 'M5S 1X2', 2.9, 2016)\n",
      "(28, '43.6836946284848', '-79.4143290305209', '20', 'Bike Shelter', '375 St Clair Ave W', 'None', 10.0, 2011)\n",
      "(29, '43.7082699050511', '-79.4000640484789', '8', 'Bike Rack', '40 Orchard View Blvd', 'M4R 1B9', 2.9, 2016)\n",
      "(30, '43.6595417581254', '-79.3826468222771', '8', 'Bike Rack', '400 Yonge St', 'None', 2.9, 2016)\n",
      "(31, '43.6562832334017', '-79.4072847841266', '8', 'Bike Rack', '429 College St', 'M5T 1T2', 2.9, 2016)\n",
      "(32, '43.6635065844203', '-79.3671626414988', '8', 'Bike Rack', '449 Parliament St', 'M5A 3A3', 2.9, 2016)\n",
      "(33, '43.65649859699091', '-79.35554106317', '24', 'Bike Rack', '47 Lower River St', 'M5A 0G1', 2.9, 2016)\n",
      "(34, '43.6464076573477', '-79.4175842923766', '8', 'Bike Rack', '49 Givins St', 'M6J 2X5', 2.9, 2013)\n",
      "(35, '43.6433952592458', '-79.3999654356682', '14', 'Bike Corral', '50 Portland St', 'M5V 2M7', 5.5, 2016)\n",
      "(36, '43.6446235513294', '-79.3978494175301', '8', 'Bike Rack', '511 King St W', 'M5V 2Z4', 2.9, 2016)\n",
      "(37, '43.6559184351809', '-79.3893801203605', '16', 'Bike Rack', '522 University Ave', 'M5G 1W7', 2.9, 2016)\n",
      "(38, '43.6660407871926', '-79.3684723713959', '8', 'Bike Rack', '539 Parliament St', 'M4X 1P7', 2.9, 2016)\n",
      "(39, '43.6452454056884', '-79.3800700536371', '72', 'Bike Rack', '61 Front St W', 'M5J 1E5', 2.9, 2015)\n",
      "(40, '43.6894845939346', '-79.494582675061', '8', 'Bike Rack', '5 Bartonville Ave E', 'M6M 2B1', 2.9, 2017)\n",
      "(41, '43.6440028829522', '-79.40114984598262', '8', 'Bike Rack', '621 King St W', 'M5V 1M5', 2.9, 2016)\n",
      "(42, '43.6584322328156', '-79.3525953501831', '8', 'Bike Rack', '636 Queen St E', 'M4M 1G3', 2.9, 2016)\n",
      "(43, '43.663806234493', '-79.4162538549835', '56', 'Bike Rack', '675 Bloor St W', 'M6G 1L3', 2.9, 2016)\n",
      "(44, '43.6588371126302', '-79.3854849354963', '8', 'Bike Rack', '720 Bay St', 'M5G 2K1', 2.9, 2016)\n",
      "(45, '43.6593434836471', '-79.3856470491767', '8', 'Bike Rack', '736 Bay St', 'M5G 2M4', 2.9, 2016)\n",
      "(46, '43.6798873239788', '-79.34501238477131', '32', 'Bike Rack', '743 Pape Ave', 'M4K 3T1', 2.9, 2015)\n",
      "(47, '43.6451297244944', '-79.4098108572165', '16', 'Bike Rack', '798 Richmond St W', 'M6J 3P3', 2.9, 2016)\n",
      "(48, '43.65484431893961', '-79.4217098646824', '8', 'Bike Rack', '802 College St', 'M6G 1C8', 2.9, 2016)\n",
      "(49, '43.6625538026018', '-79.4217629457854', '8', 'Bike Rack', '813 Bloor St W', 'M6G 1L8', 2.9, 2014)\n",
      "(50, '43.6537429799659', '-79.4266277065843', '8', 'Bike Rack', '940 College St', 'M6H 1A5', 2.9, 2016)\n",
      "(51, '43.6608848734219', '-79.4319342255372', '5', 'Angled Bike Rack', '1034 Bloor St W', 'M6H 1M3', 2.9, 2016)\n",
      "(52, '43.659382977936104', '-79.4413132921915', '14', 'Bike Corral', '12 Emerson Ave', 'M6H 3S8', 5.5, 2014)\n",
      "(53, '43.6400217734976', '-79.3967708309412', '8', 'Bike Rack', '82 Fort York Blvd', 'M5V 4A6', 2.9, 2016)\n",
      "(54, '43.6555937758623', '-79.3830072851693', '32', 'Bike Rack', '65 Dundas St W', 'M5G 2C3', 2.9, 2016)\n",
      "(55, '43.6544574848038', '-79.4238539128414', '8', 'Bike Rack', '860 College St', 'M6H 1A2', 2.9, 2016)\n",
      "(56, '43.6418724238127', '-79.4112467840044', '8', 'Bike Rack', '901 King St W', 'M5V 3H5', 2.9, 2016)\n",
      "(57, '43.6399814003218', '-79.3969681695071', '8', 'Bike Rack', '92 Fort York Blvd', 'M5V 4A7', 2.9, 2016)\n",
      "(58, '43.6413458972849', '-79.4231656377467', '14', 'Bike Corral', '92 Sudbury St', 'M6J 0C5', 5.5, 2017)\n",
      "(59, '43.6420865352289', '-79.4234411856628', '8', 'Bike Rack', '44 Lisgar St', 'None', 2.9, 2016)\n",
      "(60, '43.6491812588323', '-79.3714937127787', '8', 'Bike Rack', '95 Front St E', 'M5E 1C2', 2.9, 2014)\n",
      "(61, '43.8209470944401', '-79.3173896510384', '8', 'Bike Rack', '95 River Grove Dr', 'M1W 3T8', 2.9, 2016)\n",
      "(62, '43.668053671131', '-79.3393969830404', '16', 'Bike Rack', '953 Gerrard St E', 'M4M 1Z4', 2.9, 2016)\n",
      "(63, '43.6591290436207', '-79.4428104294615', '8', 'Bike Rack', '695 Lansdowne Ave', 'M6H 3Y9', 2.9, 2014)\n",
      "(64, '43.6461537935103', '-79.3889314920572', '16', 'Bike Rack', '55 John St', 'M5V 3C6', 2.9, 2015)\n",
      "(65, '43.6575126331535', '-79.3802376738898', '32', 'Bike Rack', '300 Victoria St', 'None', 2.9, 2016)\n",
      "(66, '43.6393807610521', '-79.3987871031906', '8', 'Bike Rack', '138 Fort York Blvd', 'M5V 0E3', 2.9, 2016)\n",
      "(67, '43.66493588945121', '-79.4542193179898', '8', 'Bike Rack', '1595 Dupont St', 'M6P 3S8', 2.9, 2017)\n",
      "(68, '43.6704004360083', '-79.3872300479029', '32', 'Bike Rack', '2 Bloor St W', 'M4W 3E2', 2.9, 2016)\n",
      "(69, '43.7004743321706', '-79.3973815441376', '8', 'Bike Rack', '2000 Yonge St', 'M4S 1Z7', 2.9, 2016)\n",
      "(70, '43.6405581341619', '-79.394196399307', '8', 'Bike Rack', '22 Fort York Blvd', 'M5V 3Z2', 2.9, 2017)\n",
      "(71, '43.6581487248445', '-79.4005149553641', '14', 'Bike Corral', '268 College St', 'M5T 1S1', 5.5, 2016)\n",
      "(72, '43.7812077532627', '-79.303096242086', '8', 'Bike Rack', '3530 Sheppard Ave E', 'M1T 3K7', 2.9, 2014)\n",
      "(73, '43.6451488396696', '-79.3956715228578', '8', 'Bike Rack', '441 King St W', 'M5V 1K4', 2.9, 2016)\n",
      "(74, '43.6656283409671', '-79.4097622062528', '8', 'Bike Rack', '490 Bloor St W', 'M5S 1X8', 2.9, 2016)\n",
      "(75, '43.66546090160741', '-79.4083859964734', '8', 'Bike Rack', '509 Bloor St W', 'M5S 1Y2', 2.9, 2017)\n",
      "(76, '43.6586988939243', '-79.3515005142531', '8', 'Bike Rack', '666 Queen St E', 'M4M 1G8', 2.9, 2016)\n",
      "(77, '43.6036684223915', '-79.4997662581739', '8', 'Bike Rack', '71 Second St', 'M8V 2X4', 2.9, 2016)\n",
      "(78, '43.6657993325492', '-79.4501905747648', '14', 'Bike Corral', '1485 Dupont St', 'M6P 3S2', 5.5, 2016)\n",
      "(79, '43.651100464233', '-79.3701856618948', '16', 'Bike Rack', '200 King St E', 'M5A 3W8', 2.9, 2017)\n",
      "(80, '43.651100464233', '-79.3701856618948', '14', 'Bike Corral', '200 King St E', 'M5A 3W8', 10.0, 2014)\n",
      "(81, '43.6674469424306', '-79.3985624500635', '8', 'Bike Rack', '315 Bloor St W', 'M5S 1A3', 2.9, 2016)\n",
      "(82, '43.6561212464489', '-79.4741048220362', '8', 'Bike Rack', '516 Glenlake Ave', 'None', 2.9, 2017)\n",
      "(83, '43.6635409715405', '-79.4173511984097', '8', 'Bike Rack', '693 Bloor St W', 'M6G 1L5', 2.9, 2016)\n",
      "(84, '43.6482142784795', '-79.3842322745632', '8', 'Bike Rack', '150 King St W', 'M5H 1J9', 2.9, 2017)\n",
      "(85, '43.642225715835', '-79.4017249691284', '8', 'Bike Rack', '35D Bathurst St', 'M5V 2P2', 2.9, 2016)\n",
      "(86, '43.8230331061332', '-79.3074473906934', '8', 'Bike Rack', '71 New Forest Sq', 'M1V 2Z6', 2.9, 2016)\n",
      "(87, '43.6463778424247', '-79.3936698784778', '8', 'Bike Rack', '11 Charlotte St', 'M5V 0M6', 2.9, 2017)\n",
      "(88, '43.6896783530003', '-79.3951269012401', '8', 'Bike Rack', '1560 Yonge St', 'M4T 2S9', 2.9, 2016)\n",
      "(89, '43.6647341700049', '-79.4138388158142', '8', 'Bike Rack', '612 Bloor St W', 'M6G 1K7', 2.9, 0)\n",
      "(90, '43.6609569224605', '-79.4316062598435', '8', 'Bike Rack', '1032 Bloor St W', 'M6H 1M2', 2.9, 2015)\n",
      "(91, '43.6398931179215', '-79.3980055327274', '8', 'Bike Rack', '157 Dan Leckie Way', 'M5V 4A8', 2.9, 2016)\n",
      "(92, '43.6562124477002', '-79.3832978278682', '8', 'Bike Rack', '595 Bay St', 'M5G 2C2', 2.9, 2016)\n",
      "(93, '43.6608451251421', '-79.4315601023945', '8', 'Bike Rack', '5 Salem Ave', 'M6H 3C2', 2.9, 2014)\n",
      "(94, '43.6608213173929', '-79.4319383641102', '8', 'Bike Rack', '1036 Bloor St W', 'M6H 1M3', 2.9, 2014)\n",
      "(95, '43.6657201946865', '-79.4099385908683', '8', 'Bike Rack', '1 Albany Ave', 'M5R 3C2', 2.9, 2017)\n",
      "(96, '43.6400541998147', '-79.3980686081508', '8', 'Bike Rack', '163 Dan Leckie Way', 'M5V 4A8', 2.9, 2016)\n",
      "(97, '43.6565175761293', '-79.3799775246031', '8', 'Bike Rack', '26 Dundas St E', 'M5B 2L6', 2.9, 2017)\n",
      "(98, '43.708216713311', '-79.39968014457341', '8', 'Bike Rack', '38 Orchard View Blvd', 'M4R 2G3', 2.9, 2016)\n",
      "(99, '43.6479052737837', '-79.3857204176048', '8', 'Bike Rack', '200 King St W', 'M5H 3T4', 2.9, 2016)\n",
      "(100, '43.6415808536674', '-79.4157586754681', '16', 'Bike Rack', '1030 King St W', 'M6K 0B4', 2.9, 2016)\n",
      "(101, '43.6879111568366', '-79.3935708744087', '24', 'Bike Rack', '1 St Clair Ave E', 'M4T 2V7', 2.9, 2016)\n",
      "(102, '43.6825720317076', '-79.330292170892', '18', 'Bike Rack', '10 Linnsmore Cres', 'M4J 4J6', 2.9, 2016)\n",
      "(103, '43.6536621558492', '-79.3689116973164', '8', 'Bike Rack', '101 Sherbourne St', 'M5A 2R3', 2.9, 2016)\n",
      "(104, '43.6430284991501', '-79.4257846968092', '14', 'Bike Corral', '1184 Queen St W', 'M6J 1J5', 5.5, 2013)\n",
      "(105, '43.6652675256312', '-79.3410336455927', '8', 'Bike Rack', '1190 Dundas St E', 'M4M 0C5', 2.9, 2016)\n",
      "(106, '43.6677591999227', '-79.4033213402764', '8', 'Bike Rack', '12 Madison Ave', 'M5R 2S1', 2.9, 2016)\n",
      "(107, '43.6444593301141', '-79.4193781682054', '5', 'Angled Bike Rack', '12 Ossington Ave', 'M6J 2Y7', 2.9, 2016)\n",
      "(108, '43.6573781216217', '-79.3791387851816', '16', 'Bike Rack', '122 Bond St', 'M5B 1X8', 2.9, 2016)\n",
      "(109, '43.6578227118334', '-79.3787181688475', '8', 'Bike Rack', '137 Bond St', 'M5B 1Y2', 2.9, 2016)\n",
      "(110, '43.6471839084895', '-79.3963385440912', '28', 'Bike Corral', '124 Spadina Ave', 'None', 12.0, 2015)\n",
      "(111, '43.6499378951888', '-79.3976488984162', '14', 'Bike Corral', '192 Spadina Ave', 'M5T 2C2', 5.5, 2015)\n",
      "(112, '43.6501245499884', '-79.3973706520018', '8', 'Bike Rack', '196 Spadina Ave', 'M5T 2C2', 2.9, 2016)\n",
      "(113, '43.66997286101041', '-79.3011363154956', '8', 'Bike Rack', '1978 Queen St E', 'M4L 1H8', 2.9, 2017)\n",
      "(114, '43.6431255580551', '-79.4264347476873', '10', 'Bike Shelter', '20 Northcote Ave', 'None', 3.0, 2015)\n",
      "(115, '43.6504254363213', '-79.3966190321934', '14', 'Bike Corral', '205 Spadina Ave', 'M5T 2C7', 11.0, 2010)\n",
      "(116, '43.6945435700427', '-79.2891570511807', '8', 'Bike Rack', '777 Victoria Park Ave', 'None', 2.9, 0)\n",
      "(117, '43.6430480473063', '-79.40544142218641', '8', 'Bike Rack', '78 Tecumseth St', 'M5V 0A9', 2.9, 2016)\n"
     ]
    }
   ],
   "source": [
    "cursor.execute(\"SELECT * FROM LOCATIONS\")\n",
    "database = cursor.fetchall()\n",
    "for row in database:\n",
    "    print(row)"
   ]
  },
  {
   "cell_type": "code",
   "execution_count": 44,
   "metadata": {},
   "outputs": [],
   "source": [
    "cursor.execute(\"DELETE FROM LOCATIONS\")"
   ]
  },
  {
   "cell_type": "code",
   "execution_count": 48,
   "metadata": {},
   "outputs": [],
   "source": [
    "cursor.execute(\"DROP TABLE LOCATIONS\")"
   ]
  },
  {
   "cell_type": "code",
   "execution_count": 65,
   "metadata": {},
   "outputs": [
    {
     "name": "stdout",
     "output_type": "stream",
     "text": [
      "['LOCATIONS']\n"
     ]
    }
   ],
   "source": [
    "cursor.execute(\"SHOW TABLES;\")\n",
    "tables = cursor.fetchall()\n",
    "print(list(tables[0]))"
   ]
  },
  {
   "cell_type": "code",
   "execution_count": null,
   "metadata": {},
   "outputs": [],
   "source": []
  }
 ],
 "metadata": {
  "kernelspec": {
   "display_name": "Python 3",
   "language": "python",
   "name": "python3"
  },
  "language_info": {
   "codemirror_mode": {
    "name": "ipython",
    "version": 3
   },
   "file_extension": ".py",
   "mimetype": "text/x-python",
   "name": "python",
   "nbconvert_exporter": "python",
   "pygments_lexer": "ipython3",
   "version": "3.7.4"
  }
 },
 "nbformat": 4,
 "nbformat_minor": 4
}
