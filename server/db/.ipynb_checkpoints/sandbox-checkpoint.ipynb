{
 "cells": [
  {
   "cell_type": "code",
   "execution_count": 1,
   "metadata": {},
   "outputs": [],
   "source": [
    "import json\n",
    "import mysql.connector\n",
    "from mysql.connector import Error"
   ]
  },
  {
   "cell_type": "code",
   "execution_count": 2,
   "metadata": {},
   "outputs": [],
   "source": [
    "with open(\"../config.json\") as file:\n",
    "    credentials = json.load(file)\n",
    "_host = credentials['DB_ADDRESS']\n",
    "_port = credentials[\"DB_PORT\"]\n",
    "_database = credentials[\"DB_NAME\"]\n",
    "_username = credentials[\"DB_USERNAME\"]\n",
    "_password = credentials[\"DB_PASSWORD\"]"
   ]
  },
  {
   "cell_type": "code",
   "execution_count": 3,
   "metadata": {},
   "outputs": [],
   "source": [
    "connection = mysql.connector.connect(host=_host,\n",
    "                                    port=_port,\n",
    "                                    database=_database,\n",
    "                                    user=_username,\n",
    "                                    password=_password)\n",
    "cursor = connection.cursor()\n",
    "\n",
    "            "
   ]
  },
  {
   "cell_type": "code",
   "execution_count": 4,
   "metadata": {},
   "outputs": [
    {
     "name": "stdout",
     "output_type": "stream",
     "text": [
      "[('bike4joy',), ('information_schema',), ('mysql',), ('performance_schema',), ('sys',)]\n"
     ]
    }
   ],
   "source": [
    "cursor.execute(\"SHOW DATABASES;\")\n",
    "database = cursor.fetchall()\n",
    "print(database)"
   ]
  },
  {
   "cell_type": "code",
   "execution_count": 49,
   "metadata": {},
   "outputs": [],
   "source": [
    "create_table_sql = \"\"\"\n",
    "CREATE TABLE LOCATIONS(\n",
    "    id INT AUTO_INCREMENT PRIMARY KEY,\n",
    "    lat TEXT,\n",
    "    lng TEXT,\n",
    "    capacity TEXT,\n",
    "    parkingType TEXT,\n",
    "    address TEXT,\n",
    "    postalCode TEXT,\n",
    "    bikeSize FLOAT,\n",
    "    yearInstalled INT\n",
    ")\n",
    "\"\"\""
   ]
  },
  {
   "cell_type": "code",
   "execution_count": 50,
   "metadata": {},
   "outputs": [],
   "source": [
    "cursor.execute(create_table_sql)\n",
    "connection.commit()"
   ]
  },
  {
   "cell_type": "code",
   "execution_count": 51,
   "metadata": {},
   "outputs": [
    {
     "name": "stdout",
     "output_type": "stream",
     "text": [
      "('id', b'int', 'NO', 'PRI', None, 'auto_increment')\n",
      "('lat', b'text', 'YES', '', None, '')\n",
      "('lng', b'text', 'YES', '', None, '')\n",
      "('capacity', b'text', 'YES', '', None, '')\n",
      "('parkingType', b'text', 'YES', '', None, '')\n",
      "('address', b'text', 'YES', '', None, '')\n",
      "('postalCode', b'text', 'YES', '', None, '')\n",
      "('bikeSize', b'float', 'YES', '', None, '')\n",
      "('yearInstalled', b'int', 'YES', '', None, '')\n"
     ]
    }
   ],
   "source": [
    "cursor.execute(\"DESCRIBE LOCATIONS\")\n",
    "result = cursor.fetchall()\n",
    "for row in result:\n",
    "    print(row)"
   ]
  },
  {
   "cell_type": "code",
   "execution_count": 9,
   "metadata": {},
   "outputs": [],
   "source": [
    "with open(\"locations.json\") as file:\n",
    "    raw_data = json.load(file)"
   ]
  },
  {
   "cell_type": "code",
   "execution_count": 23,
   "metadata": {},
   "outputs": [],
   "source": [
    "locations = raw_data['parkingData'][:10]"
   ]
  },
  {
   "cell_type": "code",
   "execution_count": 60,
   "metadata": {},
   "outputs": [
    {
     "name": "stdout",
     "output_type": "stream",
     "text": [
      "\n",
      "INSERT INTO LOCATIONS (address, postalCode, parkingType, capacity, lat, lng, bikeSize, yearInstalled)\n",
      "VALUES\n",
      "(\"21 Gerrard St E\", \"None\", \"Bike Rack\", 16, \"43.6591625171396\", \"-79.3810999113837\", 2.9, 2016),\n",
      "(\"213 Delaware Ave\", \"M6H 2T4\", \"Angled Bike Rack\", 5, \"43.6620573990966\", \"-79.4278708182001\", 2.9, 2014),\n",
      "(\"213 Delaware Ave\", \"M6H 2T4\", \"Bike Corral\", 8, \"43.6620573990966\", \"-79.4278708182001\", 3.0, 2014),\n",
      "(\"2198 Yonge St\", \"M4S 2B8\", \"Bike Rack\", 16, \"43.7058827894606\", \"-79.3984239071573\", 2.9, 2016),\n",
      "(\"222 Spadina Ave\", \"M5T 3B3\", \"Bike Rack\", 16, \"43.6509286638588\", \"-79.3978377650267\", 2.9, 2016),\n",
      "(\"236 Augusta Ave\", \"M5T 2L7\", \"Bike Corral\", 24, \"43.6553455061522\", \"-79.4025948745683\", 12.0, 2012),\n",
      "(\"36 Lisgar St\", \"M6J 0C7\", \"Bike Rack\", 8, \"43.6417386470507\", \"-79.4233157461113\", 2.9, 2016),\n",
      "(\"468 King St W\", \"M5V 1L8\", \"Bike Rack\", 8, \"43.645545087493\", \"-79.3959267185292\", 2.9, 2016),\n",
      "(\"5 Walmer Rd\", \"None\", \"Bike Rack\", 8, \"43.6667025082735\", \"-79.4053783829308\", 2.9, 2016),\n",
      "(\"500 King St W\", \"M5V 1L9\", \"Bike Rack\", 8, \"43.6453156558296\", \"-79.3968051380048\", 2.9, 2016),\n",
      "\n"
     ]
    }
   ],
   "source": [
    "cursor.execute(\"DELETE FROM LOCATIONS\")\n",
    "\n",
    "INSERT_QUERY = \"\"\"\n",
    "INSERT INTO LOCATIONS (address, postalCode, parkingType, capacity, lat, lng, bikeSize, yearInstalled)\n",
    "VALUES\n",
    "\"\"\"\n",
    "\n",
    "for location in locations:\n",
    "    properties = location[\"properties\"]\n",
    "    address = properties[\"ADDRESS_FULL\"]\n",
    "    postal_code = properties[\"POSTAL_CODE\"]\n",
    "    parking_type = properties[\"PARKING_TYPE\"]\n",
    "    capacity = properties[\"BICYCLE_CAPACITY\"]\n",
    "    bike_size = properties[\"SIZE_M\"]\n",
    "    year_installed = properties[\"YEAR_INSTALLED\"]\n",
    "    \n",
    "    geometry = location[\"geometry\"][\"coordinates\"]\n",
    "    lat = geometry[1]\n",
    "    lng = geometry[0]\n",
    "    \n",
    "    INSERT_QUERY += f'(\"{address}\", \"{postal_code}\", \"{parking_type}\", {capacity}, \"{lat}\", \"{lng}\", {bike_size}, {year_installed}),\\n'\n",
    "print(INSERT_QUERY)"
   ]
  },
  {
   "cell_type": "code",
   "execution_count": 5,
   "metadata": {},
   "outputs": [
    {
     "ename": "NameError",
     "evalue": "name 'INSERT_QUERY' is not defined",
     "output_type": "error",
     "traceback": [
      "\u001b[0;31m---------------------------------------------------------------------------\u001b[0m",
      "\u001b[0;31mNameError\u001b[0m                                 Traceback (most recent call last)",
      "\u001b[0;32m<ipython-input-5-fb28fc743b4f>\u001b[0m in \u001b[0;36m<module>\u001b[0;34m\u001b[0m\n\u001b[0;32m----> 1\u001b[0;31m \u001b[0mprint\u001b[0m\u001b[0;34m(\u001b[0m\u001b[0mINSERT_QUERY\u001b[0m\u001b[0;34m.\u001b[0m\u001b[0mrstrip\u001b[0m\u001b[0;34m(\u001b[0m\u001b[0;34m)\u001b[0m\u001b[0;34m.\u001b[0m\u001b[0mrstrip\u001b[0m\u001b[0;34m(\u001b[0m\u001b[0;34m','\u001b[0m\u001b[0;34m)\u001b[0m\u001b[0;34m)\u001b[0m\u001b[0;34m\u001b[0m\u001b[0;34m\u001b[0m\u001b[0m\n\u001b[0m\u001b[1;32m      2\u001b[0m \u001b[0mcursor\u001b[0m\u001b[0;34m.\u001b[0m\u001b[0mexecute\u001b[0m\u001b[0;34m(\u001b[0m\u001b[0mINSERT_QUERY\u001b[0m\u001b[0;34m.\u001b[0m\u001b[0mrstrip\u001b[0m\u001b[0;34m(\u001b[0m\u001b[0;34m)\u001b[0m\u001b[0;34m.\u001b[0m\u001b[0mrstrip\u001b[0m\u001b[0;34m(\u001b[0m\u001b[0;34m','\u001b[0m\u001b[0;34m)\u001b[0m\u001b[0;34m)\u001b[0m\u001b[0;34m\u001b[0m\u001b[0;34m\u001b[0m\u001b[0m\n\u001b[1;32m      3\u001b[0m \u001b[0mconnection\u001b[0m\u001b[0;34m.\u001b[0m\u001b[0mcommit\u001b[0m\u001b[0;34m(\u001b[0m\u001b[0;34m)\u001b[0m\u001b[0;34m\u001b[0m\u001b[0;34m\u001b[0m\u001b[0m\n",
      "\u001b[0;31mNameError\u001b[0m: name 'INSERT_QUERY' is not defined"
     ]
    }
   ],
   "source": [
    "print(INSERT_QUERY.rstrip().rstrip(','))\n",
    "cursor.execute(INSERT_QUERY.rstrip().rstrip(','))\n",
    "connection.commit()"
   ]
  },
  {
   "cell_type": "code",
   "execution_count": 6,
   "metadata": {},
   "outputs": [
    {
     "name": "stdout",
     "output_type": "stream",
     "text": [
      "(1, 43.6592, -79.3811, '16', 'Bike Rack', '21 Gerrard St E', 'None', 2.9, 2016)\n",
      "(2, 43.6621, -79.4279, '5', 'Angled Bike Rack', '213 Delaware Ave', 'M6H 2T4', 2.9, 2014)\n",
      "(3, 43.6621, -79.4279, '8', 'Bike Corral', '213 Delaware Ave', 'M6H 2T4', 3.0, 2014)\n",
      "(4, 43.7059, -79.3984, '16', 'Bike Rack', '2198 Yonge St', 'M4S 2B8', 2.9, 2016)\n",
      "(5, 43.6509, -79.3978, '16', 'Bike Rack', '222 Spadina Ave', 'M5T 3B3', 2.9, 2016)\n",
      "(6, 43.6553, -79.4026, '24', 'Bike Corral', '236 Augusta Ave', 'M5T 2L7', 12.0, 2012)\n",
      "(7, 43.6417, -79.4233, '8', 'Bike Rack', '36 Lisgar St', 'M6J 0C7', 2.9, 2016)\n",
      "(8, 43.6455, -79.3959, '8', 'Bike Rack', '468 King St W', 'M5V 1L8', 2.9, 2016)\n",
      "(9, 43.6667, -79.4054, '8', 'Bike Rack', '5 Walmer Rd', 'None', 2.9, 2016)\n",
      "(10, 43.6453, -79.3968, '8', 'Bike Rack', '500 King St W', 'M5V 1L9', 2.9, 2016)\n",
      "(11, 43.6651, -79.4127, '8', 'Bike Rack', '584 Bloor St W', 'M6G 1K4', 2.9, 2017)\n",
      "(12, 43.664, -79.4174, '16', 'Bike Rack', '692 Bloor St W', 'M6G 1L4', 2.9, 2016)\n",
      "(13, 43.6604, -79.3862, '8', 'Bike Rack', '790 Bay St', 'M5G 1N8', 2.9, 2016)\n",
      "(14, 43.645, -79.39, '16', 'Bike Rack', '241 Wellington St W', 'None', 2.9, 2016)\n",
      "(15, 43.6547, -79.4664, '20', 'Bike Shelter', '40 High Park Ave', 'M6P 2S1', 10.0, 2013)\n",
      "(16, 43.6528, -79.3836, '120', 'Bike Rack', '100 Queen St W', 'M5H 2N1', 2.9, 2015)\n",
      "(17, 43.6466, -79.4079, '10', 'Bike Shelter', '686 Queen St W', 'M6J 1E7', 3.0, 2015)\n",
      "(18, 43.6469, -79.4176, '18', 'Bike Shelter', '180 Shaw St', 'M6J 2W5', 7.6, 2013)\n",
      "(19, 43.6795, -79.391, '8', 'Bike Rack', '1140 Yonge St', 'M4W 2L8', 2.9, 2016)\n",
      "(20, 43.7728, -79.2572, '8', 'Bike Rack', '150 Borough Dr', 'M1P 4N7', 2.9, 2014)\n",
      "(21, 43.6578, -79.3805, '8', 'Bike Rack', '350 Victoria St', 'M5B 2K3', 2.9, 2016)\n",
      "(22, 43.652, -79.3663, '8', 'Bike Rack', '266 King St E', 'M5A 1K3', 2.9, 2016)\n",
      "(23, 43.6566, -79.3793, '8', 'Bike Rack', '277 Victoria St', 'M5B 1W2', 2.9, 2016)\n",
      "(24, 43.6488, -79.3892, '14', 'Bike Corral', '28 Duncan St', 'None', 5.5, 2015)\n",
      "(25, 43.6438, -79.3815, '30', 'Angled Bike Rack', '35 York St', 'M5J 0C7', 2.9, 2015)\n",
      "(26, 43.6508, -79.3809, '8', 'Bike Rack', '357 Bay St', 'M5H 2T7', 2.9, 2016)\n",
      "(27, 43.6665, -79.4058, '8', 'Bike Rack', '362 Bloor St W', 'M5S 1X2', 2.9, 2016)\n",
      "(28, 43.6837, -79.4143, '20', 'Bike Shelter', '375 St Clair Ave W', 'None', 10.0, 2011)\n",
      "(29, 43.7083, -79.4001, '8', 'Bike Rack', '40 Orchard View Blvd', 'M4R 1B9', 2.9, 2016)\n",
      "(30, 43.6595, -79.3826, '8', 'Bike Rack', '400 Yonge St', 'None', 2.9, 2016)\n",
      "(31, 43.6563, -79.4073, '8', 'Bike Rack', '429 College St', 'M5T 1T2', 2.9, 2016)\n",
      "(32, 43.6635, -79.3672, '8', 'Bike Rack', '449 Parliament St', 'M5A 3A3', 2.9, 2016)\n",
      "(33, 43.6565, -79.3555, '24', 'Bike Rack', '47 Lower River St', 'M5A 0G1', 2.9, 2016)\n",
      "(34, 43.6464, -79.4176, '8', 'Bike Rack', '49 Givins St', 'M6J 2X5', 2.9, 2013)\n",
      "(35, 43.6434, -79.4, '14', 'Bike Corral', '50 Portland St', 'M5V 2M7', 5.5, 2016)\n",
      "(36, 43.6446, -79.3979, '8', 'Bike Rack', '511 King St W', 'M5V 2Z4', 2.9, 2016)\n",
      "(37, 43.6559, -79.3894, '16', 'Bike Rack', '522 University Ave', 'M5G 1W7', 2.9, 2016)\n",
      "(38, 43.666, -79.3685, '8', 'Bike Rack', '539 Parliament St', 'M4X 1P7', 2.9, 2016)\n",
      "(39, 43.6452, -79.3801, '72', 'Bike Rack', '61 Front St W', 'M5J 1E5', 2.9, 2015)\n",
      "(40, 43.6895, -79.4946, '8', 'Bike Rack', '5 Bartonville Ave E', 'M6M 2B1', 2.9, 2017)\n",
      "(41, 43.644, -79.4012, '8', 'Bike Rack', '621 King St W', 'M5V 1M5', 2.9, 2016)\n",
      "(42, 43.6584, -79.3526, '8', 'Bike Rack', '636 Queen St E', 'M4M 1G3', 2.9, 2016)\n",
      "(43, 43.6638, -79.4163, '56', 'Bike Rack', '675 Bloor St W', 'M6G 1L3', 2.9, 2016)\n",
      "(44, 43.6588, -79.3855, '8', 'Bike Rack', '720 Bay St', 'M5G 2K1', 2.9, 2016)\n",
      "(45, 43.6593, -79.3857, '8', 'Bike Rack', '736 Bay St', 'M5G 2M4', 2.9, 2016)\n",
      "(46, 43.6799, -79.345, '32', 'Bike Rack', '743 Pape Ave', 'M4K 3T1', 2.9, 2015)\n",
      "(47, 43.6451, -79.4098, '16', 'Bike Rack', '798 Richmond St W', 'M6J 3P3', 2.9, 2016)\n",
      "(48, 43.6548, -79.4217, '8', 'Bike Rack', '802 College St', 'M6G 1C8', 2.9, 2016)\n",
      "(49, 43.6626, -79.4218, '8', 'Bike Rack', '813 Bloor St W', 'M6G 1L8', 2.9, 2014)\n",
      "(50, 43.6537, -79.4266, '8', 'Bike Rack', '940 College St', 'M6H 1A5', 2.9, 2016)\n",
      "(51, 43.6609, -79.4319, '5', 'Angled Bike Rack', '1034 Bloor St W', 'M6H 1M3', 2.9, 2016)\n",
      "(52, 43.6594, -79.4413, '14', 'Bike Corral', '12 Emerson Ave', 'M6H 3S8', 5.5, 2014)\n",
      "(53, 43.64, -79.3968, '8', 'Bike Rack', '82 Fort York Blvd', 'M5V 4A6', 2.9, 2016)\n",
      "(54, 43.6556, -79.383, '32', 'Bike Rack', '65 Dundas St W', 'M5G 2C3', 2.9, 2016)\n",
      "(55, 43.6545, -79.4239, '8', 'Bike Rack', '860 College St', 'M6H 1A2', 2.9, 2016)\n",
      "(56, 43.6419, -79.4112, '8', 'Bike Rack', '901 King St W', 'M5V 3H5', 2.9, 2016)\n",
      "(57, 43.64, -79.397, '8', 'Bike Rack', '92 Fort York Blvd', 'M5V 4A7', 2.9, 2016)\n",
      "(58, 43.6413, -79.4232, '14', 'Bike Corral', '92 Sudbury St', 'M6J 0C5', 5.5, 2017)\n",
      "(59, 43.6421, -79.4234, '8', 'Bike Rack', '44 Lisgar St', 'None', 2.9, 2016)\n",
      "(60, 43.6492, -79.3715, '8', 'Bike Rack', '95 Front St E', 'M5E 1C2', 2.9, 2014)\n",
      "(61, 43.8209, -79.3174, '8', 'Bike Rack', '95 River Grove Dr', 'M1W 3T8', 2.9, 2016)\n",
      "(62, 43.6681, -79.3394, '16', 'Bike Rack', '953 Gerrard St E', 'M4M 1Z4', 2.9, 2016)\n",
      "(63, 43.6591, -79.4428, '8', 'Bike Rack', '695 Lansdowne Ave', 'M6H 3Y9', 2.9, 2014)\n",
      "(64, 43.6462, -79.3889, '16', 'Bike Rack', '55 John St', 'M5V 3C6', 2.9, 2015)\n",
      "(65, 43.6575, -79.3802, '32', 'Bike Rack', '300 Victoria St', 'None', 2.9, 2016)\n",
      "(66, 43.6394, -79.3988, '8', 'Bike Rack', '138 Fort York Blvd', 'M5V 0E3', 2.9, 2016)\n",
      "(67, 43.6649, -79.4542, '8', 'Bike Rack', '1595 Dupont St', 'M6P 3S8', 2.9, 2017)\n",
      "(68, 43.6704, -79.3872, '32', 'Bike Rack', '2 Bloor St W', 'M4W 3E2', 2.9, 2016)\n",
      "(69, 43.7005, -79.3974, '8', 'Bike Rack', '2000 Yonge St', 'M4S 1Z7', 2.9, 2016)\n",
      "(70, 43.6406, -79.3942, '8', 'Bike Rack', '22 Fort York Blvd', 'M5V 3Z2', 2.9, 2017)\n",
      "(71, 43.6581, -79.4005, '14', 'Bike Corral', '268 College St', 'M5T 1S1', 5.5, 2016)\n",
      "(72, 43.7812, -79.3031, '8', 'Bike Rack', '3530 Sheppard Ave E', 'M1T 3K7', 2.9, 2014)\n",
      "(73, 43.6451, -79.3957, '8', 'Bike Rack', '441 King St W', 'M5V 1K4', 2.9, 2016)\n",
      "(74, 43.6656, -79.4098, '8', 'Bike Rack', '490 Bloor St W', 'M5S 1X8', 2.9, 2016)\n",
      "(75, 43.6655, -79.4084, '8', 'Bike Rack', '509 Bloor St W', 'M5S 1Y2', 2.9, 2017)\n",
      "(76, 43.6587, -79.3515, '8', 'Bike Rack', '666 Queen St E', 'M4M 1G8', 2.9, 2016)\n",
      "(77, 43.6037, -79.4998, '8', 'Bike Rack', '71 Second St', 'M8V 2X4', 2.9, 2016)\n",
      "(78, 43.6658, -79.4502, '14', 'Bike Corral', '1485 Dupont St', 'M6P 3S2', 5.5, 2016)\n",
      "(79, 43.6511, -79.3702, '16', 'Bike Rack', '200 King St E', 'M5A 3W8', 2.9, 2017)\n",
      "(80, 43.6511, -79.3702, '14', 'Bike Corral', '200 King St E', 'M5A 3W8', 10.0, 2014)\n",
      "(81, 43.6674, -79.3986, '8', 'Bike Rack', '315 Bloor St W', 'M5S 1A3', 2.9, 2016)\n",
      "(82, 43.6561, -79.4741, '8', 'Bike Rack', '516 Glenlake Ave', 'None', 2.9, 2017)\n",
      "(83, 43.6635, -79.4174, '8', 'Bike Rack', '693 Bloor St W', 'M6G 1L5', 2.9, 2016)\n",
      "(84, 43.6482, -79.3842, '8', 'Bike Rack', '150 King St W', 'M5H 1J9', 2.9, 2017)\n",
      "(85, 43.6422, -79.4017, '8', 'Bike Rack', '35D Bathurst St', 'M5V 2P2', 2.9, 2016)\n",
      "(86, 43.823, -79.3074, '8', 'Bike Rack', '71 New Forest Sq', 'M1V 2Z6', 2.9, 2016)\n",
      "(87, 43.6464, -79.3937, '8', 'Bike Rack', '11 Charlotte St', 'M5V 0M6', 2.9, 2017)\n",
      "(88, 43.6897, -79.3951, '8', 'Bike Rack', '1560 Yonge St', 'M4T 2S9', 2.9, 2016)\n",
      "(89, 43.6647, -79.4138, '8', 'Bike Rack', '612 Bloor St W', 'M6G 1K7', 2.9, 0)\n",
      "(90, 43.661, -79.4316, '8', 'Bike Rack', '1032 Bloor St W', 'M6H 1M2', 2.9, 2015)\n",
      "(91, 43.6399, -79.398, '8', 'Bike Rack', '157 Dan Leckie Way', 'M5V 4A8', 2.9, 2016)\n",
      "(92, 43.6562, -79.3833, '8', 'Bike Rack', '595 Bay St', 'M5G 2C2', 2.9, 2016)\n",
      "(93, 43.6608, -79.4316, '8', 'Bike Rack', '5 Salem Ave', 'M6H 3C2', 2.9, 2014)\n",
      "(94, 43.6608, -79.4319, '8', 'Bike Rack', '1036 Bloor St W', 'M6H 1M3', 2.9, 2014)\n",
      "(95, 43.6657, -79.4099, '8', 'Bike Rack', '1 Albany Ave', 'M5R 3C2', 2.9, 2017)\n",
      "(96, 43.6401, -79.3981, '8', 'Bike Rack', '163 Dan Leckie Way', 'M5V 4A8', 2.9, 2016)\n",
      "(97, 43.6565, -79.38, '8', 'Bike Rack', '26 Dundas St E', 'M5B 2L6', 2.9, 2017)\n",
      "(98, 43.7082, -79.3997, '8', 'Bike Rack', '38 Orchard View Blvd', 'M4R 2G3', 2.9, 2016)\n",
      "(99, 43.6479, -79.3857, '8', 'Bike Rack', '200 King St W', 'M5H 3T4', 2.9, 2016)\n",
      "(100, 43.6416, -79.4158, '16', 'Bike Rack', '1030 King St W', 'M6K 0B4', 2.9, 2016)\n",
      "(101, 43.6879, -79.3936, '24', 'Bike Rack', '1 St Clair Ave E', 'M4T 2V7', 2.9, 2016)\n",
      "(102, 43.6826, -79.3303, '18', 'Bike Rack', '10 Linnsmore Cres', 'M4J 4J6', 2.9, 2016)\n",
      "(103, 43.6537, -79.3689, '8', 'Bike Rack', '101 Sherbourne St', 'M5A 2R3', 2.9, 2016)\n",
      "(104, 43.643, -79.4258, '14', 'Bike Corral', '1184 Queen St W', 'M6J 1J5', 5.5, 2013)\n",
      "(105, 43.6653, -79.341, '8', 'Bike Rack', '1190 Dundas St E', 'M4M 0C5', 2.9, 2016)\n",
      "(106, 43.6678, -79.4033, '8', 'Bike Rack', '12 Madison Ave', 'M5R 2S1', 2.9, 2016)\n",
      "(107, 43.6445, -79.4194, '5', 'Angled Bike Rack', '12 Ossington Ave', 'M6J 2Y7', 2.9, 2016)\n",
      "(108, 43.6574, -79.3791, '16', 'Bike Rack', '122 Bond St', 'M5B 1X8', 2.9, 2016)\n",
      "(109, 43.6578, -79.3787, '8', 'Bike Rack', '137 Bond St', 'M5B 1Y2', 2.9, 2016)\n",
      "(110, 43.6472, -79.3963, '28', 'Bike Corral', '124 Spadina Ave', 'None', 12.0, 2015)\n",
      "(111, 43.6499, -79.3977, '14', 'Bike Corral', '192 Spadina Ave', 'M5T 2C2', 5.5, 2015)\n",
      "(112, 43.6501, -79.3974, '8', 'Bike Rack', '196 Spadina Ave', 'M5T 2C2', 2.9, 2016)\n",
      "(113, 43.67, -79.3011, '8', 'Bike Rack', '1978 Queen St E', 'M4L 1H8', 2.9, 2017)\n",
      "(114, 43.6431, -79.4264, '10', 'Bike Shelter', '20 Northcote Ave', 'None', 3.0, 2015)\n",
      "(115, 43.6504, -79.3966, '14', 'Bike Corral', '205 Spadina Ave', 'M5T 2C7', 11.0, 2010)\n",
      "(116, 43.6945, -79.2892, '8', 'Bike Rack', '777 Victoria Park Ave', 'None', 2.9, 0)\n",
      "(117, 43.643, -79.4054, '8', 'Bike Rack', '78 Tecumseth St', 'M5V 0A9', 2.9, 2016)\n"
     ]
    }
   ],
   "source": [
    "cursor.execute(\"SELECT * FROM LOCATIONS\")\n",
    "database = cursor.fetchall()\n",
    "for row in database:\n",
    "    print(row)"
   ]
  },
  {
   "cell_type": "code",
   "execution_count": 44,
   "metadata": {},
   "outputs": [],
   "source": [
    "cursor.execute(\"DELETE FROM LOCATIONS\")"
   ]
  },
  {
   "cell_type": "code",
   "execution_count": 48,
   "metadata": {},
   "outputs": [],
   "source": [
    "cursor.execute(\"DROP TABLE LOCATIONS\")"
   ]
  },
  {
   "cell_type": "code",
   "execution_count": 65,
   "metadata": {},
   "outputs": [
    {
     "name": "stdout",
     "output_type": "stream",
     "text": [
      "['LOCATIONS']\n"
     ]
    }
   ],
   "source": [
    "cursor.execute(\"SHOW TABLES;\")\n",
    "tables = cursor.fetchall()\n",
    "print(list(tables[0]))"
   ]
  },
  {
   "cell_type": "code",
   "execution_count": null,
   "metadata": {},
   "outputs": [],
   "source": []
  }
 ],
 "metadata": {
  "kernelspec": {
   "display_name": "Python 3",
   "language": "python",
   "name": "python3"
  },
  "language_info": {
   "codemirror_mode": {
    "name": "ipython",
    "version": 3
   },
   "file_extension": ".py",
   "mimetype": "text/x-python",
   "name": "python",
   "nbconvert_exporter": "python",
   "pygments_lexer": "ipython3",
   "version": "3.7.4"
  }
 },
 "nbformat": 4,
 "nbformat_minor": 4
}
